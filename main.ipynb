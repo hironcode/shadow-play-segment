{
 "cells": [
  {
   "cell_type": "code",
   "execution_count": null,
   "metadata": {
    "colab": {
     "base_uri": "https://localhost:8080/"
    },
    "id": "c5qulr6TsDTG",
    "outputId": "db38322f-33c3-49a2-9949-bfeec643231c"
   },
   "outputs": [],
   "source": [
    "from google.colab import drive\n",
    "drive.mount(\"/content/drive\")"
   ]
  },
  {
   "cell_type": "code",
   "execution_count": null,
   "metadata": {
    "colab": {
     "base_uri": "https://localhost:8080/"
    },
    "id": "1TCDqh3osKad",
    "outputId": "cbe3d350-83c8-40a9-8335-794749139736"
   },
   "outputs": [],
   "source": [
    "!git clone https://github.com/hironcode/shadow-play-segment.git"
   ]
  },
  {
   "cell_type": "code",
   "execution_count": null,
   "metadata": {
    "id": "vAZayYCfs0qD"
   },
   "outputs": [],
   "source": [
    "from transformers import pipeline\n",
    "from PIL import Image\n",
    "import cv2\n",
    "import yaml\n",
    "import os\n",
    "import torch\n",
    "from wasabi import msg\n",
    "from tqdm import tqdm"
   ]
  },
  {
   "cell_type": "code",
   "execution_count": null,
   "metadata": {
    "id": "yfkNtXtas3cy"
   },
   "outputs": [],
   "source": [
    "\n",
    "def get(video_path):\n",
    "    # Use cv2 to read the video at fps=30\n",
    "    cap = cv2.VideoCapture(video_path)\n",
    "    # Check if the video was successfully opened\n",
    "    if not cap.isOpened():\n",
    "        print(\"Error: Could not open video.\")\n",
    "        return\n",
    "    fps = cap.get(cv2.CAP_PROP_FPS)\n",
    "    frames = []\n",
    "    while True:\n",
    "        ret, frame = cap.read()\n",
    "        if not ret:\n",
    "            break\n",
    "        frame = cv2.cvtColor(frame, cv2.COLOR_BGR2RGB)\n",
    "        frames.append(frame)\n",
    "    cap.release()\n",
    "    return frames, {\n",
    "        \"fps\": fps,\n",
    "        \"width\": frame.shape[1],\n",
    "        \"height\": frame.shape[0]\n",
    "    }"
   ]
  },
  {
   "cell_type": "code",
   "execution_count": null,
   "metadata": {
    "id": "-WYuSwEGs7UD"
   },
   "outputs": [],
   "source": [
    "def get(video_path):\n",
    "    # Use cv2 to read the video at fps=30\n",
    "    cap = cv2.VideoCapture(video_path)\n",
    "    # Check if the video was successfully opened\n",
    "    if not cap.isOpened():\n",
    "        print(\"Error: Could not open video.\")\n",
    "        return\n",
    "    fps = cap.get(cv2.CAP_PROP_FPS)\n",
    "    frames = []\n",
    "    while True:\n",
    "        ret, frame = cap.read()\n",
    "        if not ret:\n",
    "            break\n",
    "        frame = cv2.cvtColor(frame, cv2.COLOR_BGR2RGB)\n",
    "        frame = Image.fromarray(frame)\n",
    "        frames.append(frame)\n",
    "    result = {\n",
    "        \"fps\": fps,\n",
    "        \"width\": cap.get(cv2.CAP_PROP_FRAME_WIDTH),\n",
    "        \"height\": cap.get(cv2.CAP_PROP_FRAME_HEIGHT)\n",
    "    }\n",
    "    cap.release()\n",
    "\n",
    "    return frames, result"
   ]
  },
  {
   "cell_type": "code",
   "execution_count": null,
   "metadata": {
    "id": "qumWAKictJlo"
   },
   "outputs": [],
   "source": [
    "def preprocess(frames, fps_old, fps_new):\n",
    "    # Load the image from the URL\n",
    "    ratio = int(fps_old) // fps_new\n",
    "    frames = frames[::ratio]\n",
    "    return frames"
   ]
  },
  {
   "cell_type": "code",
   "execution_count": null,
   "metadata": {
    "id": "S3YlvlxqtL_A"
   },
   "outputs": [],
   "source": [
    "def segment(frames, pipeline):\n",
    "    results = []\n",
    "    for frame in tqdm(frames):\n",
    "        results.append(pipeline(frame))\n",
    "    return results\n"
   ]
  },
  {
   "cell_type": "code",
   "execution_count": null,
   "metadata": {
    "id": "I41iZkFuznrL"
   },
   "outputs": [],
   "source": [
    "def save_frames(results, path):\n",
    "    frame_len = len(results)\n",
    "\n",
    "    for i in range(frame_len):\n",
    "        objects_num = len(results[i])\n",
    "        for j in range(objects_num):\n",
    "            mask = results[i][j]['mask']\n",
    "            label = results[i][j]['label']\n",
    "            mask.save(os.path.join(path, f'{label}{j}_{i}.png'))"
   ]
  },
  {
   "cell_type": "code",
   "execution_count": null,
   "metadata": {
    "id": "YozSNpHws5zS"
   },
   "outputs": [],
   "source": [
    "def save_video(config, weight, height):\n",
    "\n",
    "    frame_dir = config['output']['frame_dir']\n",
    "\n",
    "    # Make the frames of the masks into video\n",
    "    video = cv2.VideoWriter(config['output']['output_path'], cv2.VideoWriter_fourcc(*'mp4v'), config['output']['fps'], (weight, height))\n",
    "\n",
    "    target_label = config['model']['label']\n",
    "\n",
    "    for file in os.listdir(frame_dir).sort(key=lambda x: int(x.split('_')[1].split('.')[0])):\n",
    "        if target_label not in file:\n",
    "            continue\n",
    "        else:\n",
    "            img = Image.open(os.path.join(frame_dir, file)).convert('RGB')\n",
    "            video.write(img)\n",
    "\n",
    "    cv2.destroyAllWindows()\n",
    "    video.release()"
   ]
  },
  {
   "cell_type": "code",
   "execution_count": null,
   "metadata": {
    "id": "VG8DCmHhs9uf"
   },
   "outputs": [],
   "source": [
    "def main(config_path):\n",
    "    config = yaml.safe_load(open(config_path))\n",
    "    output_dir = os.path.dirname(config['output']['output_dir'])\n",
    "    if not os.path.exists(output_dir):\n",
    "        os.makedirs(output_dir)\n",
    "    video_name = os.path.basename(config['input']['video_path'])\n",
    "    config['output']['output_dir'] = os.path.join(output_dir, video_name)\n",
    "\n",
    "    # as of now, only \"nvidia/segformer-b1-finetuned-cityscapes-1024-1024\" is supported for this usage\n",
    "    semantic_segmentation = pipeline(\"image-segmentation\", config['model'])\n",
    "    frames, etc = get(config['input'][\"video_path\"])\n",
    "    frames = preprocess(frames, etc['fps'], config['output']['fps'])\n",
    "\n",
    "    msg.info(\"Segmentation Started...\")\n",
    "    with torch.no_grad():\n",
    "        segments = segment(frames, semantic_segmentation)\n",
    "\n",
    "    frame_dir = os.path.join(config['output']['output_dir'], 'frames')\n",
    "    config['output']['frame_dir'] = frame_dir\n",
    "    if not os.path.exists(frame_dir):\n",
    "        os.makedirs(frame_dir)\n",
    "    save_frames(segments, frame_dir)\n",
    "\n",
    "    config['output']['width'] = etc['width']\n",
    "    config['output']['height'] = etc['height']\n",
    "\n",
    "    with open(os.path.join(output_dir, 'config.yaml'), 'w') as f:\n",
    "        yaml.dump(config, f)\n",
    "\n",
    "    save_video(config, etc['width'], etc['height'])\n",
    "    msg.info(\"Video saved at\", config['output']['output_path'])"
   ]
  },
  {
   "cell_type": "code",
   "execution_count": null,
   "metadata": {
    "colab": {
     "base_uri": "https://localhost:8080/",
     "height": 341
    },
    "id": "C_9ddYl2s-5O",
    "outputId": "37e04f1f-7df2-477f-f3be-c82894765d53"
   },
   "outputs": [],
   "source": [
    "main(\"shadow-play-segment/config.yaml\")"
   ]
  },
  {
   "cell_type": "code",
   "execution_count": null,
   "metadata": {
    "id": "SETBZlZ2tNW3"
   },
   "outputs": [],
   "source": []
  }
 ],
 "metadata": {
  "accelerator": "GPU",
  "colab": {
   "gpuType": "T4",
   "provenance": []
  },
  "kernelspec": {
   "display_name": "Python 3",
   "name": "python3"
  },
  "language_info": {
   "name": "python"
  }
 },
 "nbformat": 4,
 "nbformat_minor": 0
}
